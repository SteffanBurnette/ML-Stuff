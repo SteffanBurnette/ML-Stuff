{
  "nbformat": 4,
  "nbformat_minor": 0,
  "metadata": {
    "colab": {
      "provenance": [],
      "authorship_tag": "ABX9TyOorNdsILEjUQRgr+vOHWfS",
      "include_colab_link": true
    },
    "kernelspec": {
      "name": "python3",
      "display_name": "Python 3"
    },
    "language_info": {
      "name": "python"
    }
  },
  "cells": [
    {
      "cell_type": "markdown",
      "metadata": {
        "id": "view-in-github",
        "colab_type": "text"
      },
      "source": [
        "<a href=\"https://colab.research.google.com/github/SteffanBurnette/ML-Stuff/blob/main/classification.ipynb\" target=\"_parent\"><img src=\"https://colab.research.google.com/assets/colab-badge.svg\" alt=\"Open In Colab\"/></a>"
      ]
    },
    {
      "cell_type": "code",
      "execution_count": null,
      "metadata": {
        "id": "fUPsvbTprf2A"
      },
      "outputs": [],
      "source": [
        "import pandas as pd\n",
        "import numpy as np\n",
        "import matplotlib.pyplot as plt"
      ]
    },
    {
      "cell_type": "code",
      "source": [
        "from sklearn.datasets import fetch_openml\n",
        "mnist = fetch_openml('mnist_784', version=1)\n",
        "mnist.keys()\n",
        "dict_keys(['data', 'target', 'feature_names', 'DESCR', 'details',\n",
        " 'categories', 'url'])"
      ],
      "metadata": {
        "id": "eOsrPua-rlY4"
      },
      "execution_count": null,
      "outputs": []
    },
    {
      "cell_type": "code",
      "source": [
        "X, y = mnist[\"data\"], mnist[\"target\"]\n",
        "print(X.shape)\n",
        "\n",
        "print(y.shape)"
      ],
      "metadata": {
        "id": "7mNTSJ1hrvNw"
      },
      "execution_count": null,
      "outputs": []
    },
    {
      "cell_type": "code",
      "source": [
        "import matplotlib as mpl\n",
        "import matplotlib.pyplot as plt\n",
        "some_digit = X[0]\n",
        "some_digit_image = some_digit.reshape(28, 28)\n",
        "plt.imshow(some_digit_image, cmap=\"binary\")\n",
        "plt.axis(\"off\")\n",
        "plt.show()"
      ],
      "metadata": {
        "id": "QNCbPHAVr256"
      },
      "execution_count": null,
      "outputs": []
    },
    {
      "cell_type": "code",
      "source": [
        "y = y.astype(np.uint8) #Converting the strings to int"
      ],
      "metadata": {
        "id": "r6aIcodQr-3v"
      },
      "execution_count": null,
      "outputs": []
    },
    {
      "cell_type": "code",
      "source": [
        "'''\n",
        "The MNIST dataset is actually already split into a training set (the first 60,000\n",
        "images) and a test set (the last 10,000 images):\n",
        "'''\n",
        "X_train, X_test, y_train, y_test = X[:60000], X[60000:], y[:60000], y[60000:]"
      ],
      "metadata": {
        "id": "XU6stWP7sGR-"
      },
      "execution_count": null,
      "outputs": []
    },
    {
      "cell_type": "code",
      "source": [
        "'''This “5-detector” will be an example of a binary classifier, capable of\n",
        "distinguishing between just two classes, 5 and not-5. Let’s create the target vectors for\n",
        "this classification task:'''\n",
        "y_train_5 = (y_train == 5) # True for all 5s, False for all other digits\n",
        "y_test_5 = (y_test == 5)\n"
      ],
      "metadata": {
        "id": "4j2KbpeWtWSw"
      },
      "execution_count": null,
      "outputs": []
    },
    {
      "cell_type": "code",
      "source": [
        "'''\n",
        "good place to start is with a Stochastic Gradi‐\n",
        "ent Descent (SGD) classifier, using Scikit-Learn’s SGDClassifier class. This classifier\n",
        "has the advantage of being capable of handling very large datasets efficiently. This is\n",
        "in part because SGD deals with training instances independently, one at a time\n",
        "(which also makes SGD well suited for online learning)\n",
        "'''\n",
        "from sklearn.linear_model import SGDClassifier\n",
        "sgd_clf = SGDClassifier(random_state=42)\n",
        "sgd_clf.fit(X_train, y_train_5)\n",
        "\n",
        "'''\n",
        "The SGDClassifier relies on randomness during training (hence\n",
        "the name “stochastic”). If you want reproducible results, you\n",
        "should set the random_state parameter.\n",
        "'''"
      ],
      "metadata": {
        "id": "TwQSHuFFtdQd"
      },
      "execution_count": null,
      "outputs": []
    },
    {
      "cell_type": "code",
      "source": [
        " sgd_clf.predict([some_digit])"
      ],
      "metadata": {
        "id": "M-c9Fai0twrn"
      },
      "execution_count": null,
      "outputs": []
    },
    {
      "cell_type": "code",
      "source": [
        "'''The following code does roughly the same thing as Scikit-Learn’s\n",
        "cross_val_score() function, and it prints the same result:'''\n",
        "\n",
        "from sklearn.model_selection import StratifiedKFold\n",
        "from sklearn.base import clone\n",
        "skfolds = StratifiedKFold(n_splits=3, shuffle=True, random_state=42)\n",
        "for train_index, test_index in skfolds.split(X_train, y_train_5):\n",
        " clone_clf = clone(sgd_clf)\n",
        " X_train_folds = X_train[train_index]\n",
        " y_train_folds = y_train_5[train_index]\n",
        " X_test_fold = X_train[test_index]\n",
        " y_test_fold = y_train_5[test_index]\n",
        " clone_clf.fit(X_train_folds, y_train_folds)\n",
        " y_pred = clone_clf.predict(X_test_fold)\n",
        " n_correct = sum(y_pred == y_test_fold)\n",
        " print(n_correct / len(y_pred)) # prints 0.9502, 0.96565, and 0.96495\n",
        "\n",
        " '''\n",
        "The StratifiedKFold class performs stratified sampling (as explained in Chapter 2)\n",
        "to produce folds that contain a representative ratio of each class. At each iteration the\n",
        "code creates a clone of the classifier, trains that clone on the training folds, and makes\n",
        "predictions on the test fold. Then it counts the number of correct predictions and\n",
        "outputs the ratio of correct predictions '''"
      ],
      "metadata": {
        "id": "YV9lnsaSt9cU"
      },
      "execution_count": null,
      "outputs": []
    },
    {
      "cell_type": "code",
      "source": [
        "'''\n",
        "Let’s use the cross_val_score() function to evaluate our SGDClassifier model,\n",
        "using K-fold cross-validation with three folds. Remember that K-fold cross-validation\n",
        "means splitting the training set into K folds (in this case, three), then making predic‐\n",
        "tions and evaluating them on each fold using a model trained on the remaining folds\n",
        "'''\n",
        "\n",
        "from sklearn.model_selection import cross_val_score\n",
        "cross_val_score(sgd_clf, X_train, y_train_5, cv=3, scoring=\"accuracy\")"
      ],
      "metadata": {
        "id": "8a-fnD_YuIp9"
      },
      "execution_count": null,
      "outputs": []
    },
    {
      "cell_type": "code",
      "source": [
        "from sklearn.base import BaseEstimator\n",
        "\n",
        "class Never5Classifier(BaseEstimator):\n",
        " def fit(self, X, y=None):\n",
        " return self\n",
        " def predict(self, X):\n",
        " return np.zeros((len(X), 1), dtype=bool)\n",
        "\n",
        "\n",
        "never_5_clf = Never5Classifier()\n",
        "cross_val_score(never_5_clf, X_train, y_train_5, cv=3, scoring=\"accuracy\")\n",
        "\n",
        "'''\n",
        "That’s right, it has over 90% accuracy! This is simply because only about 10% of the\n",
        "images are 5s, so if you always guess that an image is not a 5, you will be right about\n",
        "90% of the time. Beats Nostradamus.\n",
        "\n",
        "This demonstrates why accuracy is generally not the preferred performance measure\n",
        "for classifiers, especially when you are dealing with skewed datasets (i.e., when some\n",
        "classes are much more frequent than others).\n",
        "'''"
      ],
      "metadata": {
        "id": "hDcu-cn6uWMA"
      },
      "execution_count": null,
      "outputs": []
    },
    {
      "cell_type": "code",
      "source": [
        "'''\n",
        "Just like the cross_val_score() function, cross_val_predict() performs K-fold\n",
        "cross-validation, but instead of returning the evaluation scores, it returns the predic‐\n",
        "tions made on each test fold. This means that you get a clean prediction for each\n",
        "instance in the training set (“clean” meaning that the prediction is made by a model\n",
        "that never saw the data during training).\n",
        "\n",
        "'''\n",
        "from sklearn.model_selection import cross_val_predict\n",
        "y_train_pred = cross_val_predict(sgd_clf, X_train, y_train_5, cv=3)"
      ],
      "metadata": {
        "id": "eazfxof_wI_u"
      },
      "execution_count": null,
      "outputs": []
    },
    {
      "cell_type": "code",
      "source": [
        "from sklearn.metrics import confusion_matrix\n",
        "confusion_matrix(y_train_5, y_train_pred)"
      ],
      "metadata": {
        "id": "kVrJ6WwYwSm7"
      },
      "execution_count": null,
      "outputs": []
    },
    {
      "cell_type": "code",
      "source": [
        "'''\n",
        "Each row in a confusion matrix represents an actual class, while each column repre‐\n",
        "sents a predicted class. The first row of this matrix considers non-5 images (the nega‐\n",
        "tive class): 53,057 of them were correctly classified as non-5s (they are called true\n",
        "negatives), while the remaining 1,522 were wrongly classified as 5s (false positives).\n",
        "The second row considers the images of 5s (the positive class): 1,325 were wrongly\n",
        "classified as non-5s (false negatives), while the remaining 4,096 were correctly classi‐\n",
        "fied as 5s (true positives). A perfect classifier would have only true positives and true\n",
        "negatives, so its confusion matrix would have nonzero values only on its main diago‐\n",
        "nal (top left to bottom right):\n",
        "'''\n",
        "y_train_perfect_predictions = y_train_5 # pretend we reached perfection\n",
        "confusion_matrix(y_train_5, y_train_perfect_predictions)\n"
      ],
      "metadata": {
        "id": "7ImYccg34c51"
      },
      "execution_count": null,
      "outputs": []
    }
  ]
}